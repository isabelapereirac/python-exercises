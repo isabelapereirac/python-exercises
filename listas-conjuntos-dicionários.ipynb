{
  "nbformat": 4,
  "nbformat_minor": 0,
  "metadata": {
    "colab": {
      "provenance": []
    },
    "kernelspec": {
      "name": "python3",
      "display_name": "Python 3"
    }
  },
  "cells": [
    {
      "cell_type": "markdown",
      "metadata": {
        "id": "KJqp9AANOCtf"
      },
      "source": [
        "<img src=\"https://raw.githubusercontent.com/andre-marcos-perez/ebac-course-utils/main/media/logo/newebac_logo_black_half.png\" alt=\"ebac-logo\">\n",
        "\n",
        "---\n",
        "\n",
        "# **Módulo 02** | Python: Estruturas de Dados\n",
        "Caderno de **Exercícios**<br> \n",
        "Professor [André Perez](https://www.linkedin.com/in/andremarcosperez/)\n",
        "\n",
        "---"
      ]
    },
    {
      "cell_type": "markdown",
      "metadata": {
        "id": "d9jDtUbDOE1-"
      },
      "source": [
        "# **Tópicos**\n",
        "\n",
        "<ol type=\"1\">\n",
        "  <li>Listas;</li>\n",
        "  <li>Conjuntos;</li>\n",
        "  <li>Dicionários.</li>\n",
        "</ol>"
      ]
    },
    {
      "cell_type": "markdown",
      "metadata": {
        "id": "SmoHgt-lwkpD"
      },
      "source": [
        "---"
      ]
    },
    {
      "cell_type": "markdown",
      "metadata": {
        "id": "GABI6OW8OfQ2"
      },
      "source": [
        "# **Exercícios**"
      ]
    },
    {
      "cell_type": "markdown",
      "metadata": {
        "id": "muD1vxozykSC"
      },
      "source": [
        "## 1\\. Listas"
      ]
    },
    {
      "cell_type": "markdown",
      "metadata": {
        "id": "ahrFfCuBxJKs"
      },
      "source": [
        "Criei uma lista chamada `filmes` com o nome dos 10 primeiros filmes mais bem avaliados no site no [IMDB](https://www.imdb.com/chart/top/). Imprima o resultado."
      ]
    },
    {
      "cell_type": "code",
      "metadata": {
        "id": "OgL6Hv3bzOHI",
        "colab": {
          "base_uri": "https://localhost:8080/"
        },
        "outputId": "6d445e34-0f27-4819-812b-22897567e432"
      },
      "source": [
        "filmes = ['Um Sonho de Liberdade',\n",
        "          'O Poderoso Chefão',\n",
        "          'Batman: Cavaleiro das Trevas',\n",
        "          'O Poderoso Chefão II',\n",
        "          '12 Homens e Uma Setença',\n",
        "          'A Lista de Schindler',\n",
        "          'Senhor dos Aneis: O Retorno do Rei',\n",
        "          'Pulp Fiction: Tempo de Violencia',\n",
        "          'Senhor dos Aneis: A Sociedade do Anel',\n",
        "          'Tres Homens em Conflito']\n",
        "print(filmes)"
      ],
      "execution_count": 43,
      "outputs": [
        {
          "output_type": "stream",
          "name": "stdout",
          "text": [
            "['Um Sonho de Liberdade', 'O Poderoso Chefão', 'Batman: Cavaleiro das Trevas', 'O Poderoso Chefão II', '12 Homens e Uma Setença', 'A Lista de Schindler', 'Senhor dos Aneis: O Retorno do Rei', 'Pulp Fiction: Tempo de Violencia', 'Senhor dos Aneis: A Sociedade do Anel', 'Tres Homens em Conflito']\n"
          ]
        }
      ]
    },
    {
      "cell_type": "markdown",
      "metadata": {
        "id": "KI9zQRT2xa7m"
      },
      "source": [
        "Simule a movimentação do *ranking*. Utilize os métodos `insert` e `pop` para trocar a posição do primeiro e do segundo filme da lista. Imprima o resultado.\n",
        "\n"
      ]
    },
    {
      "cell_type": "code",
      "metadata": {
        "id": "zX3mA3_GzrXH",
        "colab": {
          "base_uri": "https://localhost:8080/"
        },
        "outputId": "92a52251-c56c-4356-ad7f-1eec2c2bcdc0"
      },
      "source": [
        "filmes.insert(0, 'Whiplash: Em Busca da Perfeição')\n",
        "print(filmes)\n",
        "\n",
        "filmes.pop(2)\n",
        "print(filmes)\n",
        "\n"
      ],
      "execution_count": 10,
      "outputs": [
        {
          "output_type": "stream",
          "name": "stdout",
          "text": [
            "['Whiplash: Em Busca da Perfeição', 'Um Sonho de Liberdade', 'O Poderoso Chefão', 'Batman: Cavaleiro das Trevas', 'O Poderoso Chefão II', '12 Homens e Uma Setença', 'A Lista de Schindler', 'Senhor dos Aneis: O Retorno do Rei', 'Pulp Fiction: Tempo de Violencia', 'Senhor dos Aneis: A Sociedade do Anel', 'Tres Homens em Conflito']\n",
            "['Whiplash: Em Busca da Perfeição', 'Um Sonho de Liberdade', 'Batman: Cavaleiro das Trevas', 'O Poderoso Chefão II', '12 Homens e Uma Setença', 'A Lista de Schindler', 'Senhor dos Aneis: O Retorno do Rei', 'Pulp Fiction: Tempo de Violencia', 'Senhor dos Aneis: A Sociedade do Anel', 'Tres Homens em Conflito']\n"
          ]
        }
      ]
    },
    {
      "cell_type": "markdown",
      "metadata": {
        "id": "zMN1Q3jdwoJm"
      },
      "source": [
        "---"
      ]
    },
    {
      "cell_type": "markdown",
      "metadata": {
        "id": "lxa5L6uF0ZJE"
      },
      "source": [
        "## 2\\. Conjuntos"
      ]
    },
    {
      "cell_type": "markdown",
      "metadata": {
        "id": "9JahS2Kj0d5u"
      },
      "source": [
        "Aconteceu um erro no seu *ranking*. Simule a duplicação dos três últimos filmes da lista. Imprima o resultado."
      ]
    },
    {
      "cell_type": "code",
      "metadata": {
        "id": "BnjnLBNC6PGe",
        "colab": {
          "base_uri": "https://localhost:8080/"
        },
        "outputId": "8a6be911-ea2c-479f-c805-dcf2b174a19c"
      },
      "source": [
        "filmes = ['Whiplash: Em Busca da Perfeição',\n",
        "          'Um Sonho de Liberdade',\n",
        "          'Batman: Cavaleiro das Trevas',\n",
        "          'O Poderoso Chefão II',\n",
        "          '12 Homens e Uma Setença',\n",
        "          'A Lista de Schindler',\n",
        "          'Senhor dos Aneis: O Retorno do Rei',\n",
        "          'Pulp Fiction: Tempo de Violencia',\n",
        "          'Senhor dos Aneis: A Sociedade do Anel',\n",
        "          'Pulp Fiction: Tempo de Violencia',\n",
        "          'Tres Homens em Conflito',\n",
        "          'Senhor dos Aneis: A Sociedade do Anel',\n",
        "          'Tres Homens em Conflito']\n",
        "\n",
        "print(filmes)"
      ],
      "execution_count": 44,
      "outputs": [
        {
          "output_type": "stream",
          "name": "stdout",
          "text": [
            "['Whiplash: Em Busca da Perfeição', 'Um Sonho de Liberdade', 'Batman: Cavaleiro das Trevas', 'O Poderoso Chefão II', '12 Homens e Uma Setença', 'A Lista de Schindler', 'Senhor dos Aneis: O Retorno do Rei', 'Pulp Fiction: Tempo de Violencia', 'Senhor dos Aneis: A Sociedade do Anel', 'Pulp Fiction: Tempo de Violencia', 'Tres Homens em Conflito', 'Senhor dos Aneis: A Sociedade do Anel', 'Tres Homens em Conflito']\n"
          ]
        }
      ]
    },
    {
      "cell_type": "markdown",
      "metadata": {
        "id": "suxTfCJB6ZiX"
      },
      "source": [
        "Utiliza a conversão `set` e `list` para remover os valores duplicados. Imprima o resultado. "
      ]
    },
    {
      "cell_type": "code",
      "metadata": {
        "id": "ZvUGN-0n6joM",
        "colab": {
          "base_uri": "https://localhost:8080/"
        },
        "outputId": "f8e3c6ae-2dd6-4018-8474-1e6090c79c16"
      },
      "source": [
        "filmes = list(set(filmes))\n",
        "print(filmes)"
      ],
      "execution_count": 45,
      "outputs": [
        {
          "output_type": "stream",
          "name": "stdout",
          "text": [
            "['Senhor dos Aneis: A Sociedade do Anel', 'Whiplash: Em Busca da Perfeição', 'A Lista de Schindler', 'Senhor dos Aneis: O Retorno do Rei', 'Tres Homens em Conflito', 'Pulp Fiction: Tempo de Violencia', 'Um Sonho de Liberdade', '12 Homens e Uma Setença', 'Batman: Cavaleiro das Trevas', 'O Poderoso Chefão II']\n"
          ]
        }
      ]
    },
    {
      "cell_type": "markdown",
      "metadata": {
        "id": "ShkK35eQ6pAM"
      },
      "source": [
        "---"
      ]
    },
    {
      "cell_type": "markdown",
      "metadata": {
        "id": "EL_FzmxL6rTv"
      },
      "source": [
        "## 3\\. Dicionários"
      ]
    },
    {
      "cell_type": "markdown",
      "metadata": {
        "id": "i8l0gFqRCpfT"
      },
      "source": [
        "Repita os exercícios da parte 1 (listas). Os elementos da lista `filmes` devem ser dicionários no seguinte formato: `{'nome': <nome-do-filme>, 'ano': <ano do filme>}, 'sinopse': <sinopse do filme>}`. "
      ]
    },
    {
      "cell_type": "code",
      "source": [
        "filmes = {\n",
        "    '1': {\n",
        "        'nome': 'Um Sonho de Liberdade',\n",
        "        'ano': 1994,\n",
        "        'sinopse':'Dois homens presos se reúnem ao longo de vários anos, encontrando consolo e eventual redenção através de atos de decência comum.',\n",
        "    },\n",
        "    '2': {\n",
        "        'nome': 'O Poderoso Chefão',\n",
        "        'ano': 1972,\n",
        "        'sinopse':'O patriarca idoso de uma dinastia do crime organizado transfere o controle de seu império clandestino para seu filho relutante.',\n",
        "    },\n",
        "    '3': {\n",
        "        'nome': 'Batman: Cavaleiro das Trevas',\n",
        "        'ano': 2008,\n",
        "        'sinopse':'Quando a ameaça conhecida como O Coringa surge de seu passado, causa estragos e caos nas pessoas de Gotham. O Cavaleiro das Trevas deve aceitar um dos maiores testes para combater a injustiça.',\n",
        "    },\n",
        "    '4': {\n",
        "        'nome': 'O Poderoso Chefão II',\n",
        "        'ano': 1974,\n",
        "        'sinopse':'Em 1950, Michael Corleone, agora à frente da família, tenta expandir o negócio do crime a Las Vegas, Los Angeles e Cuba. Paralelamente, é revelada a história de Vito Corleone, e de como saiu da Sicília e chegou a Nova Iorque.'\n",
        "    },\n",
        "    '5': {\n",
        "        'nome': '12 Homens e uma Sentença',\n",
        "        'ano': 1957,\n",
        "        'sinopse':'O julgamento de um assassinato em Nova Iorque é frustrado por um único membro, cujo ceticismo força o júri a considerar cuidadosamente as evidências antes de dar o veredito.',\n",
        "    },\n",
        "    '6': {\n",
        "        'nome': 'A Lista de Schindler',\n",
        "        'ano': 1993,\n",
        "        'sinopse':'Na Polônia ocupada pelos alemães durante a Segunda Guerra Mundial, o industrial Oskar Schindler começa a ser preocupar com seus trabalhadores judeus depois de testemunhar sua perseguição pelos nazistas.',\n",
        "    },\n",
        "    '7': {\n",
        "        'nome': 'O Senhor dos Anéis: O Retorno do Rei',\n",
        "        'ano': 2003,\n",
        "        'sinopse':'Gandalf e Aragorn lideram o Mundo dos Homens contra o exército de Sauron para desviar o olhar de Frodo e Sam quando eles se aproximam á Montanha da Perdição com o Um Anel.',\n",
        "    },\n",
        "    '8': {\n",
        "        'nome': 'Pulp Fiction: Tempo de Violência',\n",
        "        'ano': 1994,\n",
        "        'sinopse':'As vidas de dois assassinos da máfia, um boxeador, um gângster e sua esposa, e um par de bandidos se entrelaçam em quatro histórias de violência e redenção.',\n",
        "    },\n",
        "    '9': {\n",
        "        'nome': 'O Senhor dos Anéis: A Sociedade do Anel',\n",
        "        'ano': 2001,\n",
        "        'sinopse':'Um manso hobbit do Condado e oito companheiros partem em uma jornada para destruir o poderoso Um Anel e salvar a Terra-média das Trevas.',\n",
        "    },\n",
        "    '10': {\n",
        "        'nome': 'Três Homens em Conflito',\n",
        "        'ano': 1966,\n",
        "        'sinopse':'Um impostor se junta com dois homens para encontrar fortuna num remoto cemitério.',\n",
        "    },\n",
        "}"
      ],
      "metadata": {
        "id": "zxgFCGpN5D0K"
      },
      "execution_count": 42,
      "outputs": []
    }
  ]
}